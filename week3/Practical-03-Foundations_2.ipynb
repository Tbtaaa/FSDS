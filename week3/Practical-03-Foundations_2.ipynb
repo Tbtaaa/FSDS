{
 "cells": [
  {
   "cell_type": "markdown",
   "id": "7c8ba067-1a69-4ee3-8e94-41bd5cd2b91d",
   "metadata": {},
   "source": [
    "## Practical 3: Foundations (Part 2)\n",
    "\n",
    "Getting to grips with Dictionaries, LOLs and DOLs\n",
    "\n",
    "In this notebook we are exploring basic (in the sense of fundamental)\n",
    "data structures so that you understand both how to manage more complex\n",
    "types of data and are prepared for what we will encounter when we start\n",
    "using `pandas` to perform data analysis. To achieve that, you will need\n",
    "to be ‘fluent’ in nested lists and dictionaries; we will focus primarily\n",
    "on lists-of-lists and dictionaries-of-lists, but note that file formats\n",
    "like JSON can be understood as\n",
    "dictionaries-of-dictionaries-of-lists-of-… so this is just a *taster* of\n",
    "real-world data structures.\n",
    "\n",
    "> **Tip**\n",
    ">\n",
    "> You should download this notebook and then save it to your own copy of\n",
    "> the repository. Follow the process used *last* week\n",
    "> (i.e. `git add ...`, `git commit -m \"...\"`, `git push`) right away and\n",
    "> then do this again at the end of the class and you’ll have a record of\n",
    "> everything you did.\n",
    "\n",
    "## 1. From Lists to Data (Little Steps)\n",
    "\n",
    "We’re going to start off using lists and dictionaries that *we* define\n",
    "right at the start of the ‘program’, but the *real* value of these data\n",
    "structures comes when we build a list or dictionary *from* data such as\n",
    "a file or a web page… and that’s what we’re going to do below!\n",
    "\n",
    "First, here’s a reminder of some useful methods (*i.e.* functions) that\n",
    "apply to lists which we covered in the\n",
    "[lecture](https://jreades.github.io/fsds/sessions/week2.html#pre-recorded-lectures)\n",
    "and\n",
    "[practical](https://jreades.github.io/fsds/sessions/week2.html#practical)\n",
    "in Week 2:\n",
    "\n",
    "| Method | Action |\n",
    "|--------------------|----------------------------------------------------|\n",
    "| `list.count(x)` | Return the number of times x appears in the list |\n",
    "| `list.insert(i, x)` | Insert value `x` at a given position `i` |\n",
    "| `list.pop([i])` | Remove and return the value at position `i` (`i` is optional) |\n",
    "| `list.remove(x)` | Remove the first element from the list whose value is `x` |\n",
    "| `list.reverse()` | Reverse the elements of the list in place |\n",
    "| `list.sort()` | Sort the items of the list in place |\n",
    "| `list.index(x)` | Find the first occurence of `x` in the list |\n",
    "| `list[x:y]` | Slice the list from index `x` to `y-1` |\n",
    "\n",
    "This should all be revision… because it’s how we finished things up\n",
    "*last week*. But I want to go over it *briefly* again because we’re\n",
    "going to build on it this week.\n",
    "\n",
    "> **Hint**\n",
    ">\n",
    "> As before, `??` will highlight where one or more bit of code are\n",
    "> missing and need to be filled in…\n",
    "\n",
    "### 1.1 List Refresher\n",
    "\n",
    "> **Difficulty: Low.**\n",
    "\n",
    "To complete these tasks, all of the methods that you need are listed\n",
    "above, so this is about testing yourself on your understanding *both* of\n",
    "how to read the help *and* how to index elements in a list.\n",
    "\n",
    "The next line creates a list of (made up) Airbnb property names where\n",
    "each element is a string:"
   ]
  },
  {
   "cell_type": "code",
   "execution_count": 3,
   "id": "71bed436",
   "metadata": {},
   "outputs": [],
   "source": [
    "listings = [\"Sunny 1-Bed\", \"Fantastic Dbl\",\n",
    "    \"Home-Away-From-Home\", \"Sunny Single\", \n",
    "    \"Whole House\", \"Trendy Terrace\"]"
   ]
  },
  {
   "cell_type": "markdown",
   "id": "d7f9942d-d9d2-4905-986b-1f6378533534",
   "metadata": {},
   "source": [
    "#### 1.1.1 List Arithmetic\n",
    "\n",
    "Replace the `??` so that it prints <code>Sunny Single</code>.\n",
    "\n",
    "##### 1.1.1.1 Question"
   ]
  },
  {
   "cell_type": "code",
   "execution_count": 4,
   "id": "fc0cd369-c7b7-4124-9804-2b40f79eceb5",
   "metadata": {},
   "outputs": [
    {
     "name": "stdout",
     "output_type": "stream",
     "text": [
      "Sunny Single\n"
     ]
    }
   ],
   "source": [
    "print(listings[2 + 1])"
   ]
  },
  {
   "cell_type": "markdown",
   "id": "e9976393-2897-4a90-afa7-4a9b74e03f6a",
   "metadata": {},
   "source": [
    "#### 1.1.2 Negative List Arithmetic\n",
    "\n",
    "Now use a **negative** index to print <code>Whole House</code>:\n",
    "\n",
    "##### 1.1.2.1 Question"
   ]
  },
  {
   "cell_type": "code",
   "execution_count": 5,
   "id": "8d9aa2d6-fba3-4fe3-aa26-205636997340",
   "metadata": {},
   "outputs": [
    {
     "name": "stdout",
     "output_type": "stream",
     "text": [
      "Whole House\n"
     ]
    }
   ],
   "source": [
    "print(listings[-2])"
   ]
  },
  {
   "cell_type": "markdown",
   "id": "0ace60e1-e7b4-4b49-ad6e-b63141f53012",
   "metadata": {},
   "source": [
    "#### 1.1.3 Finding a Position in a List\n",
    "\n",
    "Replace the `??` so that it prints the *index* for <code>Fantastic\n",
    "Dbl</code> in the list.\n",
    "\n",
    "##### 1.1.3.1 Question"
   ]
  },
  {
   "cell_type": "code",
   "execution_count": 13,
   "id": "a1ebe5c4-7352-4577-a340-86967ac7c702",
   "metadata": {},
   "outputs": [
    {
     "name": "stdout",
     "output_type": "stream",
     "text": [
      "The position of 'Fantastic Dbl' in the list is: 1\n"
     ]
    }
   ],
   "source": [
    "print(\"The position of 'Fantastic Dbl' in the list is: \" + str(listings.index(\"Fantastic Dbl\")))"
   ]
  },
  {
   "cell_type": "markdown",
   "id": "db2771f8-5cea-4ec8-a762-2629b61ac81e",
   "metadata": {},
   "source": [
    "### 1.2 Looking Across Lists\n",
    "\n",
    "> **Connections**\n",
    ">\n",
    "> This section draws on the\n",
    "> [LOLs](https://jreades.github.io/fsds/sessions/week3.html#pre-recorded-lectures)\n",
    "> lecture and you will also find Code Camp’s\n",
    "> [Loops](https://jreades.github.io/code-camp/lessons/Loops.html)\n",
    "> session useful here.\n",
    "\n",
    "> **Difficulty: Medium.**\n",
    "\n",
    "Notice that the list of `prices` is the same length as the list of\n",
    "`listings`, that’s because these are (made-up) prices for each listing."
   ]
  },
  {
   "cell_type": "code",
   "execution_count": 49,
   "id": "5ac77956",
   "metadata": {},
   "outputs": [],
   "source": [
    "listings = [\"Sunny 1-Bed\", \"Fantastic Dbl\", \"Home-Away-From-Home\", \"Sunny Single\", \"Whole House\", \"Trendy Terrace\"]\n",
    "prices = [37.50, 46.00, 125.00, 45.00, 299.99, 175.00]"
   ]
  },
  {
   "cell_type": "markdown",
   "id": "7dcb2d71-26bd-4345-8ab9-f60b1dd74449",
   "metadata": {},
   "source": [
    "#### 1.2.1 Lateral Thinking\n",
    "\n",
    "Given what you know about `listings` and `prices`, how do you print:\n",
    "\n",
    "> `\"The nightly price for Home-Away-From-Home is £125.0.\"`\n",
    "\n",
    "But you have to do this *without* doing any of the following:\n",
    "\n",
    "1.  Using a list index directly (*i.e.* `listings[2]` and `prices[2]`)\n",
    "    or\n",
    "2.  Hard-coding the name of the listing?\n",
    "\n",
    "To put it another way, **neither** of these solutions is the answer:"
   ]
  },
  {
   "cell_type": "code",
   "execution_count": 15,
   "id": "0436a304",
   "metadata": {},
   "outputs": [
    {
     "name": "stdout",
     "output_type": "stream",
     "text": [
      "The nightly price for `Home-Away-From-Home` is £125.0.\n"
     ]
    },
    {
     "ename": "TypeError",
     "evalue": "list indices must be integers or slices, not str",
     "output_type": "error",
     "traceback": [
      "\u001b[31m---------------------------------------------------------------------------\u001b[39m",
      "\u001b[31mTypeError\u001b[39m                                 Traceback (most recent call last)",
      "\u001b[36mCell\u001b[39m\u001b[36m \u001b[39m\u001b[32mIn[15]\u001b[39m\u001b[32m, line 4\u001b[39m\n\u001b[32m      2\u001b[39m \u001b[38;5;66;03m# ...OR...\u001b[39;00m\n\u001b[32m      3\u001b[39m listing=\u001b[32m2\u001b[39m\n\u001b[32m----> \u001b[39m\u001b[32m4\u001b[39m \u001b[38;5;28mprint\u001b[39m(\u001b[33m\"\u001b[39m\u001b[33mThe nightly price for `Home-Away-From-Home` is £\u001b[39m\u001b[33m\"\u001b[39m + \u001b[38;5;28mstr\u001b[39m(\u001b[43mprices\u001b[49m\u001b[43m[\u001b[49m\u001b[43mlistings\u001b[49m\u001b[43m[\u001b[49m\u001b[43mlisting\u001b[49m\u001b[43m]\u001b[49m\u001b[43m]\u001b[49m) + \u001b[33m\"\u001b[39m\u001b[33m.\u001b[39m\u001b[33m\"\u001b[39m)\n",
      "\u001b[31mTypeError\u001b[39m: list indices must be integers or slices, not str"
     ]
    }
   ],
   "source": [
    "print(\"The nightly price for `Home-Away-From-Home` is £\" + str(prices[2]) + \".\")\n",
    "# ...OR...\n",
    "listing=2\n",
    "print(\"The nightly price for `Home-Away-From-Home` is £\" + str(prices[listings[listing]]) + \".\")"
   ]
  },
  {
   "cell_type": "markdown",
   "id": "df4d6978-e1d9-4fea-92f0-000aeb935caf",
   "metadata": {},
   "source": [
    "> **Tip**\n",
    ">\n",
    "> You will need to combine some of the ideas above and also think about\n",
    "> the fact that the list index is that we need is the same in both\n",
    "> lists… Also, remember that you’ll need to wrap a `str(...)` around\n",
    "> your temperature to make it into a string.\n",
    "\n",
    "##### 1.2.1.1 Question"
   ]
  },
  {
   "cell_type": "code",
   "execution_count": 50,
   "id": "4755607d-4eea-445d-8d68-58e51d2da371",
   "metadata": {},
   "outputs": [
    {
     "name": "stdout",
     "output_type": "stream",
     "text": [
      "The nightly price of Home-Away-From-Home is 125.0\n",
      "The nightly price of Home-Away-From-Home is 125.0\n"
     ]
    }
   ],
   "source": [
    "listing=\"Home-Away-From-Home\" # Use this to get the solution...\n",
    "price=str(prices[listings.index(listing)])\n",
    "\n",
    "# This way is perfectly fine\n",
    "print(\"The nightly price of \" + listing + \" is \" + str(price))\n",
    "\n",
    "# This way is more Python 3 and a bit easier to read\n",
    "print(f\"The nightly price of {listing} is {price}\")"
   ]
  },
  {
   "cell_type": "markdown",
   "id": "b247cf94-6b11-4956-8281-315a01b62617",
   "metadata": {},
   "source": [
    "#### 1.2.2 Double-Checking Your Solution"
   ]
  },
  {
   "cell_type": "code",
   "execution_count": 51,
   "id": "85af04b3",
   "metadata": {},
   "outputs": [
    {
     "name": "stdout",
     "output_type": "stream",
     "text": [
      "The nightly price of Sunny Single is 45.0\n",
      "The nightly price of Sunny Single is 45.0\n"
     ]
    }
   ],
   "source": [
    "listing = 'Sunny Single'\n",
    "price=str(prices[listings.index(listing)])\n",
    "\n",
    "# This way is perfectly fine\n",
    "print(\"The nightly price of \" + listing + \" is \" + str(price))\n",
    "\n",
    "# This way is more Python 3 and a bit easier to read\n",
    "print(f\"The nightly price of {listing} is {price}\")"
   ]
  },
  {
   "cell_type": "markdown",
   "id": "5051fdfd-a7bf-470c-a527-98a3b7ffa55d",
   "metadata": {},
   "source": [
    "You’ll know that you got the ‘right’ answer to the question above if you\n",
    "can copy+paste your code and change only **one** thing in order to print\n",
    "out: “The nightly price of Sunny Single is £45.0”\n",
    "\n",
    "##### 1.2.2.1 Question"
   ]
  },
  {
   "cell_type": "code",
   "execution_count": 52,
   "id": "b711ee83-9055-4793-9ed3-993b3007e666",
   "metadata": {},
   "outputs": [
    {
     "name": "stdout",
     "output_type": "stream",
     "text": [
      "The nightly price of Sunny Single is 45.0\n"
     ]
    }
   ],
   "source": [
    "listing = 'Sunny Single'\n",
    "price=str(prices[listings.index(listing)])\n",
    "\n",
    "# This way is perfectly fine\n",
    "print(\"The nightly price of \" + listing + \" is \" + str(price))"
   ]
  },
  {
   "cell_type": "markdown",
   "id": "0f59eb1f-57b3-43f7-a52c-0f583a631607",
   "metadata": {},
   "source": [
    "#### 1.2.3 Loops\n",
    "\n",
    "Now use a `for` loop over the listings to print out the price of each.\n",
    "But first, some information about formatting number in Python…\n",
    "\n",
    "> **Formatting Numbers**\n",
    ">\n",
    "> We often want to format numbers in a particular way to make the more\n",
    "> readable. Commonly, in English we use commas for thousands separators\n",
    "> and a full-stop for the decimal. Other countries follow other\n",
    "> standards, but by default Python goes the English way. So:\n",
    ">\n",
    "> ``` python\n",
    "> print(f\"{1234567.25:.0f}\")\n",
    "> print(f\"{1234567.25:.1f}\")\n",
    "> print(f\"{1234567.25:.2f}\")\n",
    "> print(f\"{1234567:.2f}\")\n",
    "> print(f\"{1234567:,.2f}\")\n",
    "> ```\n",
    ">\n",
    ">     1234567\n",
    ">     1234567.2\n",
    ">     1234567.25\n",
    ">     1234567.00\n",
    ">     1,234,567.00\n",
    ">\n",
    "> You might like to read this [useful\n",
    "> article](https://blog.teclado.com/python-formatting-numbers-for-printing/)\n",
    "> on formatting numbers in Python.\n",
    "\n",
    "That should then help you with the output of the following block of\n",
    "code!\n",
    "\n",
    "##### 1.2.3.1 Question"
   ]
  },
  {
   "cell_type": "code",
   "execution_count": 57,
   "id": "c4688b4e-846d-4478-8e50-ccdaf2855f2e",
   "metadata": {},
   "outputs": [
    {
     "name": "stdout",
     "output_type": "stream",
     "text": [
      "The nightly price of Sunny 1-Bed is £ 37.50\n",
      "The nightly price of Fantastic Dbl is £ 46.00\n",
      "The nightly price of Home-Away-From-Home is £ 125.00\n",
      "The nightly price of Sunny Single is £ 45.00\n",
      "The nightly price of Whole House is £ 299.99\n",
      "The nightly price of Trendy Terrace is £ 175.00\n"
     ]
    }
   ],
   "source": [
    "for l in listings:\n",
    "    price = prices[listings.index(l)]\n",
    "    print(f\"The nightly price of {l} is £ {price:.2f}\")"
   ]
  },
  {
   "cell_type": "markdown",
   "id": "7a77b7bc-549b-41fd-b7af-9f669b1d3977",
   "metadata": {},
   "source": [
    "The output should be:"
   ]
  },
  {
   "cell_type": "code",
   "execution_count": null,
   "id": "bab887a6-7e80-4949-bf47-614e5775aede",
   "metadata": {},
   "outputs": [],
   "source": [
    "The nightly price of Sunny 1-Bed is £37.50\n",
    "The nightly price of Fantastic Dbl is £46.00\n",
    "The nightly price of Home-Away-From-Home is £125.00\n",
    "The nightly price of Sunny Single is £45.00\n",
    "The nightly price of Whole House is £299.99\n",
    "The nightly price of Trendy Terrace is £175.00"
   ]
  },
  {
   "cell_type": "markdown",
   "id": "35738f88-6bb4-4bd9-80cd-0267efa23840",
   "metadata": {},
   "source": [
    "## 2. Dictionaries\n",
    "\n",
    "> **Connections**\n",
    ">\n",
    "> This section draws on the\n",
    "> [Dictionaries](https://jreades.github.io/fsds/sessions/week3.html#pre-recorded-lectures)\n",
    "> lecture and Code Camp\n",
    "> [Dictionaries](https://jreades.github.io/code-camp/lessons/Dicts.html)\n",
    "> session.\n",
    "\n",
    "> **Difficulty: Low.**\n",
    "\n",
    "Remember that dictionaries (a.k.a. dicts) are like lists in that they\n",
    "are [data\n",
    "structures](https://docs.python.org/2/tutorial/datastructures.html)\n",
    "containing multiple elements. A key difference between\n",
    "[dictionaries](https://docs.python.org/2/tutorial/datastructures.html#dictionaries)\n",
    "and [lists](https://docs.python.org/2/tutorial/introduction.html#lists)\n",
    "is that while elements in lists are ordered, dicts (in most programming\n",
    "languages, though not Python) are unordered. This means that whereas for\n",
    "lists we use integers as indexes to access elements, in dictonaries we\n",
    "use ‘keys’ (which can multiple different types; strings, integers,\n",
    "etc.). Consequently, the important term here is key-value pairs.\n",
    "\n",
    "### 2.1 Creating an Atlas\n",
    "\n",
    "The code below creates an atlas using a dictionary. The dictionary `key`\n",
    "is a listing, and the `value` is the latitude, longitude, and price."
   ]
  },
  {
   "cell_type": "code",
   "execution_count": 65,
   "id": "5f883ee3",
   "metadata": {},
   "outputs": [],
   "source": [
    "listings = {\n",
    "    'Sunny 1-Bed': [37.77, -122.43, '£37.50'],\n",
    "    'Fantastic Dbl': [51.51, -0.08, '£46.00'],\n",
    "    'Home-Away-From-Home': [48.86, 2.29, '£125.00'],\n",
    "    'Sunny Single': [39.92, 116.40 ,'£45.00'],\n",
    "}"
   ]
  },
  {
   "cell_type": "markdown",
   "id": "13124de8-e84f-434f-8764-895a33c40431",
   "metadata": {},
   "source": [
    "#### 2.1.1 Adding to a Dict\n",
    "\n",
    "Add a record to the dictionary for “Whole House” following the same\n",
    "format.\n",
    "\n",
    "##### 2.1.1.1 Question"
   ]
  },
  {
   "cell_type": "code",
   "execution_count": 68,
   "id": "0a8fe4e4-1bfa-4f81-8018-52bfea0aa3ed",
   "metadata": {},
   "outputs": [
    {
     "name": "stdout",
     "output_type": "stream",
     "text": [
      "{'Sunny 1-Bed': [37.77, -122.43, '£37.50'], 'Fantastic Dbl': [51.51, -0.08, '£46.00'], 'Home-Away-From-Home': [48.86, 2.29, '£125.00'], 'Sunny Single': [39.92, 116.4, '£45.00'], 'Whole House': (37.77, -0.08, '£125.00')}\n"
     ]
    }
   ],
   "source": [
    "listings[\"Whole House\"] = 37.77, -0.08, '£125.00'\n",
    "print(listings)"
   ]
  },
  {
   "cell_type": "markdown",
   "id": "92e024e8-9a88-422b-8ba2-655440796690",
   "metadata": {},
   "source": [
    "#### 2.1.2 Accessing a Dict\n",
    "\n",
    "In *one* line of code, print out the price for ‘Whole House’:\n",
    "\n",
    "##### 2.1.2.1 Question"
   ]
  },
  {
   "cell_type": "code",
   "execution_count": 73,
   "id": "b9166b01-9963-4f61-a841-054045c717ca",
   "metadata": {},
   "outputs": [
    {
     "name": "stdout",
     "output_type": "stream",
     "text": [
      "£125.00\n"
     ]
    }
   ],
   "source": [
    "print(listings['Whole House'][2])"
   ]
  },
  {
   "cell_type": "markdown",
   "id": "ace4d549-2d59-4dbf-9926-c7135fdef3c7",
   "metadata": {},
   "source": [
    "### 2.2 Dealing With Errors\n",
    "\n",
    "Check you understand the difference between the following two blocks of\n",
    "code by running them."
   ]
  },
  {
   "cell_type": "code",
   "execution_count": 71,
   "id": "cc066189",
   "metadata": {},
   "outputs": [
    {
     "name": "stdout",
     "output_type": "stream",
     "text": [
      "Error found\n",
      "'Trendy Terrace'\n"
     ]
    }
   ],
   "source": [
    "try:\n",
    "    print(listings['Trendy Terrace'])\n",
    "except KeyError as e:\n",
    "    print(\"Error found\")\n",
    "    print(e)"
   ]
  },
  {
   "cell_type": "code",
   "execution_count": 72,
   "id": "cd5f9858",
   "metadata": {},
   "outputs": [
    {
     "name": "stdout",
     "output_type": "stream",
     "text": [
      "Not Found\n"
     ]
    }
   ],
   "source": [
    "try:\n",
    "    print(listings.get('Trendy Terrace','Not Found'))\n",
    "except KeyError as e:\n",
    "    print(\"Error found\")\n",
    "    print(e)"
   ]
  },
  {
   "cell_type": "markdown",
   "id": "fb617721-118a-4859-8fef-7ca5ef5f77b9",
   "metadata": {},
   "source": [
    "Notice that trying to access a non-existent element of a dict triggers a\n",
    "`KeyError`, while asking the dict to `get` the *same element* does not,\n",
    "it simply returns `None`. Can you think why, depending on the\n",
    "situtation, *either* of these might be the ‘correct’ answer?\n",
    "\n",
    "### 2.3 Thinking Data\n",
    "\n",
    "This section makes use of both the\n",
    "[Dictionaries](https://jreades.github.io/fsds//sessions/week3.html#pre-recorded-lectures)\n",
    "lecture and the [DOLs to\n",
    "Data](https://jreades.github.io/fsds/sessions/week3.html#pre-recorded-lectures)\n",
    "lecture.\n",
    "\n",
    "> **Tip**\n",
    ">\n",
    "> In this section you’ll need to look up (i.e. Google) and make use of a\n",
    "> few new functions that apply to dictionaries: `<dictionary>.items()`,\n",
    "> `<dictionary>.keys()`. *Remember*: if in doubt, add `print(...)`\n",
    "> statements to see what is going on!\n",
    "\n",
    "#### 2.3.1 Iterating over a Dict\n",
    "\n",
    "Adapting the code below, print out the listing name and price.\n",
    "\n",
    "##### 2.3.1.1 Question"
   ]
  },
  {
   "cell_type": "code",
   "execution_count": 78,
   "id": "ff8cf2af-fab8-42d0-917e-746d429f5c79",
   "metadata": {},
   "outputs": [
    {
     "name": "stdout",
     "output_type": "stream",
     "text": [
      "Sunny 1-Bed -> £37.50\n",
      "Fantastic Dbl -> £46.00\n",
      "Home-Away-From-Home -> £125.00\n",
      "Sunny Single -> £45.00\n",
      "Whole House -> £125.00\n"
     ]
    }
   ],
   "source": [
    "for l in listings.keys():\n",
    "    print(f\"{l} -> {listings[l][2]}\")+-"
   ]
  },
  {
   "cell_type": "markdown",
   "id": "e34d0a01-0b87-4575-87ba-52449d1d0376",
   "metadata": {},
   "source": [
    "The output should look something like this:"
   ]
  },
  {
   "cell_type": "code",
   "execution_count": null,
   "id": "1b5e4ce7-5a3e-4440-be93-f153e1f48876",
   "metadata": {},
   "outputs": [],
   "source": [
    "Sunny 1-Bed -> £37.50</code>\n",
    "Fantastic Dbl -> £46.00</code>\n",
    "Home-Away-From-Home -> £125.00</code>\n",
    "Sunny Single -> £45.00</code>\n",
    "Whole House -> £299.99</code>"
   ]
  },
  {
   "cell_type": "markdown",
   "id": "065f554f-2881-47cc-b0f0-1c71cb7ad4dd",
   "metadata": {},
   "source": [
    "#### 2.3.2 More Complex Dicts\n",
    "\n",
    "How would your code need to change to produce the *same output* from\n",
    "this data structure:"
   ]
  },
  {
   "cell_type": "code",
   "execution_count": 135,
   "id": "c07b59bc",
   "metadata": {},
   "outputs": [],
   "source": [
    "listings = {\n",
    "    'Sunny 1-Bed': {\n",
    "        'lat': 37.77, \n",
    "        'lon': -122.43, \n",
    "        'price': '£37.50'},\n",
    "    'Fantastic Dbl': {\n",
    "        'lat': 51.51, \n",
    "        'lon': -0.08, \n",
    "        'price': '£46.00'},\n",
    "    'Home-Away-From-Home': {\n",
    "        'lat': 48.86, \n",
    "        'lon': 2.29, \n",
    "        'price': '£125.00'},\n",
    "    'Sunny Single': {\n",
    "        'lat': 39.92, \n",
    "        'lon': 116.40, \n",
    "        'price': '£45.00'},\n",
    "}"
   ]
  },
  {
   "cell_type": "code",
   "execution_count": 121,
   "id": "ced896f9-9e94-41b4-a46c-7e73b3c45f85",
   "metadata": {},
   "outputs": [
    {
     "name": "stdout",
     "output_type": "stream",
     "text": [
      "Sunny 1-Bed lat: 37.77, lon: -122.43, price: £37.50\n",
      "Fantastic Dbl lat: 51.51, lon: -0.08, price: £46.00\n",
      "Home-Away-From-Home lat: 48.86, lon: 2.29, price: £125.00\n",
      "Sunny Single lat: 39.92, lon: 116.4, price: £45.00\n"
     ]
    }
   ],
   "source": [
    "for l in listings.keys():\n",
    "    print(f\"{l} lat: {listings[l]['lat']}, lon: {listings[l]['lon']}, price: {listings[l]['price']}\")"
   ]
  },
  {
   "cell_type": "markdown",
   "id": "bd578165-5464-447d-a830-14b53028c652",
   "metadata": {},
   "source": [
    "##### 2.3.2.1 Question\n",
    "\n",
    "So to print out the below for each listing it’s…"
   ]
  },
  {
   "cell_type": "code",
   "execution_count": 109,
   "id": "fbc140f6-ec68-4bec-970d-d14f0ec2e8ab",
   "metadata": {},
   "outputs": [
    {
     "name": "stdout",
     "output_type": "stream",
     "text": [
      "Sunny 1-Bed -> £37.50\n",
      "Fantastic Dbl -> £46.00\n",
      "Home-Away-From-Home -> £125.00\n",
      "Sunny Single -> £45.00\n"
     ]
    }
   ],
   "source": [
    "for l in listings.keys():\n",
    "    print(l + \" -> \" + listings[l]['price'])"
   ]
  },
  {
   "cell_type": "markdown",
   "id": "914c8936-082a-4569-ad21-2a0417a25e6d",
   "metadata": {},
   "source": [
    "Your output should be:"
   ]
  },
  {
   "cell_type": "code",
   "execution_count": null,
   "id": "f2ce85b7-7b31-4a7b-bc91-84bc3addcc3a",
   "metadata": {},
   "outputs": [],
   "source": [
    "Sunny 1-Bed -> £37.50\n",
    "Fantastic Dbl -> £46.00\n",
    "Home-Away-From-Home -> £125.00\n",
    "Sunny Single -> £45.00"
   ]
  },
  {
   "cell_type": "markdown",
   "id": "ac67994e-4d81-40b3-aa1e-71734141a9a0",
   "metadata": {},
   "source": [
    "#### 2.3.3 More Dictionary Action!\n",
    "\n",
    "And how would it need to change to print out the name and latitude of\n",
    "every listing?\n",
    "\n",
    "##### 2.3.3.1 Question"
   ]
  },
  {
   "cell_type": "code",
   "execution_count": 124,
   "id": "669c7494-674b-4765-888a-417f0c92b744",
   "metadata": {},
   "outputs": [
    {
     "name": "stdout",
     "output_type": "stream",
     "text": [
      "Sunny 1-Bed is at latitude 37.77\n",
      "Fantastic Dbl is at latitude 51.51\n",
      "Home-Away-From-Home is at latitude 48.86\n",
      "Sunny Single is at latitude 39.92\n"
     ]
    }
   ],
   "source": [
    "for l in listings.keys():\n",
    "    print(l + \" is at latitude \" + str(listings[l]['lat']))"
   ]
  },
  {
   "cell_type": "markdown",
   "id": "dd99e56f-dcf1-431d-a6b7-24bbea0a74ce",
   "metadata": {},
   "source": [
    "The output should be something like this:"
   ]
  },
  {
   "cell_type": "code",
   "execution_count": null,
   "id": "f2bf02d0-7b36-4aac-804c-f53f743626c1",
   "metadata": {},
   "outputs": [],
   "source": [
    "Sunny 1-Bed is at latitude 37.77\n",
    "Fantastic Dbl is at latitude 51.51\n",
    "Home-Away-From-Home is at latitude 48.86\n",
    "Sunny Single is at latitude 39.92"
   ]
  },
  {
   "cell_type": "markdown",
   "id": "60d2b145-4afb-4730-a6da-98a7f22f867c",
   "metadata": {},
   "source": [
    "#### 2.3.4 And Another Way to Use a Dict\n",
    "\n",
    "Now produce the *same output* using this new data structure:"
   ]
  },
  {
   "cell_type": "code",
   "execution_count": 136,
   "id": "804252c8",
   "metadata": {},
   "outputs": [],
   "source": [
    "listings_alt = [\n",
    "    {'name':     'Sunny 1-Bed',\n",
    "     'position': [37.77, -122.43],\n",
    "     'price':    '£37.50'},\n",
    "    {'name':     'Fantastic Dbl',\n",
    "     'position': [51.51, -0.08],\n",
    "     'price':    '£46.00'},\n",
    "    {'name':     'Home-Away-From-Home',\n",
    "     'position': [48.86, 2.29],\n",
    "     'price':    '£125.00'},\n",
    "    {'name':     'Sunny Single',\n",
    "     'position': [39.92, 116.40],\n",
    "     'price':    '£45.00'},\n",
    "    {'name':     'Whole House', \n",
    "     'position': [13.08, 80.28],\n",
    "     'price':    '£299.99'}\n",
    "]"
   ]
  },
  {
   "cell_type": "markdown",
   "id": "9ce82b04-9ea9-42b1-8d6e-da886de94d37",
   "metadata": {},
   "source": [
    "##### 2.3.4.1 Question"
   ]
  },
  {
   "cell_type": "code",
   "execution_count": 145,
   "id": "37c3b0c4-ad73-4775-aa79-5203db0a6ac9",
   "metadata": {},
   "outputs": [
    {
     "name": "stdout",
     "output_type": "stream",
     "text": [
      "Sunny 1-Bed is at latitude 37.77\n",
      "Fantastic Dbl is at latitude 51.51\n",
      "Home-Away-From-Home is at latitude 48.86\n",
      "Sunny Single is at latitude 39.92\n",
      "Whole House is at latitude 13.08\n"
     ]
    }
   ],
   "source": [
    "for l in listings_alt:\n",
    "    print(l['name'] + \" is at latitude \" + str(l['position'][0]))"
   ]
  },
  {
   "cell_type": "markdown",
   "id": "bbbee3c3-dc43-4c52-adf7-927f9079b68c",
   "metadata": {},
   "source": [
    "The output should be something like this:"
   ]
  },
  {
   "cell_type": "code",
   "execution_count": null,
   "id": "fd2c57be-82b7-4c17-be4c-8a600e354d3b",
   "metadata": {},
   "outputs": [],
   "source": [
    "Sunny 1-Bed is at latitude 37.77\n",
    "Fantastic Dbl is at latitude 51.51\n",
    "Home-Away-From-Home is at latitude 48.86\n",
    "Sunny Single is at latitude 39.92\n",
    "Whole House is at latitude 13.08"
   ]
  },
  {
   "cell_type": "markdown",
   "id": "d327b39c-cad7-4a1f-814a-114d33fc70b3",
   "metadata": {
    "jp-MarkdownHeadingCollapsed": true
   },
   "source": [
    "#### 2.3.5 Think Data!\n",
    "\n",
    "What are some of the main differences that you can think of between\n",
    "these data structures? There is no right answer.\n",
    "\n",
    "-   Point 1 here.\n",
    "-   Point 2 here.\n",
    "-   Point 3 here.\n",
    "\n",
    "### 2.4 Add to Git/GitHub\n",
    "\n",
    "Now follow the same process that you used last week to ensure that your\n",
    "edited notebook is updated in Git and then synchronised with GitHub."
   ]
  }
 ],
 "metadata": {
  "kernelspec": {
   "display_name": "Python 3 (ipykernel)",
   "language": "python",
   "name": "python3"
  },
  "language_info": {
   "codemirror_mode": {
    "name": "ipython",
    "version": 3
   },
   "file_extension": ".py",
   "mimetype": "text/x-python",
   "name": "python",
   "nbconvert_exporter": "python",
   "pygments_lexer": "ipython3",
   "version": "3.12.11"
  }
 },
 "nbformat": 4,
 "nbformat_minor": 5
}
